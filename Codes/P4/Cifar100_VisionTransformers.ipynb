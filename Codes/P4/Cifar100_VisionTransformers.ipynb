{
  "nbformat": 4,
  "nbformat_minor": 0,
  "metadata": {
    "colab": {
      "provenance": [],
      "gpuType": "T4"
    },
    "kernelspec": {
      "name": "python3",
      "display_name": "Python 3"
    },
    "language_info": {
      "name": "python"
    },
    "accelerator": "GPU",
    "widgets": {
      "application/vnd.jupyter.widget-state+json": {
        "c8adefc18a1c449688ca345fb30d74f7": {
          "model_module": "@jupyter-widgets/controls",
          "model_name": "HBoxModel",
          "model_module_version": "1.5.0",
          "state": {
            "_dom_classes": [],
            "_model_module": "@jupyter-widgets/controls",
            "_model_module_version": "1.5.0",
            "_model_name": "HBoxModel",
            "_view_count": null,
            "_view_module": "@jupyter-widgets/controls",
            "_view_module_version": "1.5.0",
            "_view_name": "HBoxView",
            "box_style": "",
            "children": [
              "IPY_MODEL_d3191aeb9e2d4359941b963225144ab2",
              "IPY_MODEL_bf595271fb3745eba8fa5174c35d0d5c",
              "IPY_MODEL_008890e280dd4cbdb529ff41abccf503"
            ],
            "layout": "IPY_MODEL_483436dddaa443238e22d54673078b0b"
          }
        },
        "d3191aeb9e2d4359941b963225144ab2": {
          "model_module": "@jupyter-widgets/controls",
          "model_name": "HTMLModel",
          "model_module_version": "1.5.0",
          "state": {
            "_dom_classes": [],
            "_model_module": "@jupyter-widgets/controls",
            "_model_module_version": "1.5.0",
            "_model_name": "HTMLModel",
            "_view_count": null,
            "_view_module": "@jupyter-widgets/controls",
            "_view_module_version": "1.5.0",
            "_view_name": "HTMLView",
            "description": "",
            "description_tooltip": null,
            "layout": "IPY_MODEL_8d7fa161aa604bcea388e7513c7a7955",
            "placeholder": "​",
            "style": "IPY_MODEL_b5d48e5c0cf644dc9ce2030b24063bfb",
            "value": "preprocessor_config.json: 100%"
          }
        },
        "bf595271fb3745eba8fa5174c35d0d5c": {
          "model_module": "@jupyter-widgets/controls",
          "model_name": "FloatProgressModel",
          "model_module_version": "1.5.0",
          "state": {
            "_dom_classes": [],
            "_model_module": "@jupyter-widgets/controls",
            "_model_module_version": "1.5.0",
            "_model_name": "FloatProgressModel",
            "_view_count": null,
            "_view_module": "@jupyter-widgets/controls",
            "_view_module_version": "1.5.0",
            "_view_name": "ProgressView",
            "bar_style": "success",
            "description": "",
            "description_tooltip": null,
            "layout": "IPY_MODEL_5bcb41099a504821ad1224c87509d6fa",
            "max": 228,
            "min": 0,
            "orientation": "horizontal",
            "style": "IPY_MODEL_6678f0c9081e48b2bd039b2bb788d3d3",
            "value": 228
          }
        },
        "008890e280dd4cbdb529ff41abccf503": {
          "model_module": "@jupyter-widgets/controls",
          "model_name": "HTMLModel",
          "model_module_version": "1.5.0",
          "state": {
            "_dom_classes": [],
            "_model_module": "@jupyter-widgets/controls",
            "_model_module_version": "1.5.0",
            "_model_name": "HTMLModel",
            "_view_count": null,
            "_view_module": "@jupyter-widgets/controls",
            "_view_module_version": "1.5.0",
            "_view_name": "HTMLView",
            "description": "",
            "description_tooltip": null,
            "layout": "IPY_MODEL_aeb8b78684844792b9716427d0f95984",
            "placeholder": "​",
            "style": "IPY_MODEL_5c42b9b971684464a939495efb7fadeb",
            "value": " 228/228 [00:00&lt;00:00, 6.59kB/s]"
          }
        },
        "483436dddaa443238e22d54673078b0b": {
          "model_module": "@jupyter-widgets/base",
          "model_name": "LayoutModel",
          "model_module_version": "1.2.0",
          "state": {
            "_model_module": "@jupyter-widgets/base",
            "_model_module_version": "1.2.0",
            "_model_name": "LayoutModel",
            "_view_count": null,
            "_view_module": "@jupyter-widgets/base",
            "_view_module_version": "1.2.0",
            "_view_name": "LayoutView",
            "align_content": null,
            "align_items": null,
            "align_self": null,
            "border": null,
            "bottom": null,
            "display": null,
            "flex": null,
            "flex_flow": null,
            "grid_area": null,
            "grid_auto_columns": null,
            "grid_auto_flow": null,
            "grid_auto_rows": null,
            "grid_column": null,
            "grid_gap": null,
            "grid_row": null,
            "grid_template_areas": null,
            "grid_template_columns": null,
            "grid_template_rows": null,
            "height": null,
            "justify_content": null,
            "justify_items": null,
            "left": null,
            "margin": null,
            "max_height": null,
            "max_width": null,
            "min_height": null,
            "min_width": null,
            "object_fit": null,
            "object_position": null,
            "order": null,
            "overflow": null,
            "overflow_x": null,
            "overflow_y": null,
            "padding": null,
            "right": null,
            "top": null,
            "visibility": null,
            "width": null
          }
        },
        "8d7fa161aa604bcea388e7513c7a7955": {
          "model_module": "@jupyter-widgets/base",
          "model_name": "LayoutModel",
          "model_module_version": "1.2.0",
          "state": {
            "_model_module": "@jupyter-widgets/base",
            "_model_module_version": "1.2.0",
            "_model_name": "LayoutModel",
            "_view_count": null,
            "_view_module": "@jupyter-widgets/base",
            "_view_module_version": "1.2.0",
            "_view_name": "LayoutView",
            "align_content": null,
            "align_items": null,
            "align_self": null,
            "border": null,
            "bottom": null,
            "display": null,
            "flex": null,
            "flex_flow": null,
            "grid_area": null,
            "grid_auto_columns": null,
            "grid_auto_flow": null,
            "grid_auto_rows": null,
            "grid_column": null,
            "grid_gap": null,
            "grid_row": null,
            "grid_template_areas": null,
            "grid_template_columns": null,
            "grid_template_rows": null,
            "height": null,
            "justify_content": null,
            "justify_items": null,
            "left": null,
            "margin": null,
            "max_height": null,
            "max_width": null,
            "min_height": null,
            "min_width": null,
            "object_fit": null,
            "object_position": null,
            "order": null,
            "overflow": null,
            "overflow_x": null,
            "overflow_y": null,
            "padding": null,
            "right": null,
            "top": null,
            "visibility": null,
            "width": null
          }
        },
        "b5d48e5c0cf644dc9ce2030b24063bfb": {
          "model_module": "@jupyter-widgets/controls",
          "model_name": "DescriptionStyleModel",
          "model_module_version": "1.5.0",
          "state": {
            "_model_module": "@jupyter-widgets/controls",
            "_model_module_version": "1.5.0",
            "_model_name": "DescriptionStyleModel",
            "_view_count": null,
            "_view_module": "@jupyter-widgets/base",
            "_view_module_version": "1.2.0",
            "_view_name": "StyleView",
            "description_width": ""
          }
        },
        "5bcb41099a504821ad1224c87509d6fa": {
          "model_module": "@jupyter-widgets/base",
          "model_name": "LayoutModel",
          "model_module_version": "1.2.0",
          "state": {
            "_model_module": "@jupyter-widgets/base",
            "_model_module_version": "1.2.0",
            "_model_name": "LayoutModel",
            "_view_count": null,
            "_view_module": "@jupyter-widgets/base",
            "_view_module_version": "1.2.0",
            "_view_name": "LayoutView",
            "align_content": null,
            "align_items": null,
            "align_self": null,
            "border": null,
            "bottom": null,
            "display": null,
            "flex": null,
            "flex_flow": null,
            "grid_area": null,
            "grid_auto_columns": null,
            "grid_auto_flow": null,
            "grid_auto_rows": null,
            "grid_column": null,
            "grid_gap": null,
            "grid_row": null,
            "grid_template_areas": null,
            "grid_template_columns": null,
            "grid_template_rows": null,
            "height": null,
            "justify_content": null,
            "justify_items": null,
            "left": null,
            "margin": null,
            "max_height": null,
            "max_width": null,
            "min_height": null,
            "min_width": null,
            "object_fit": null,
            "object_position": null,
            "order": null,
            "overflow": null,
            "overflow_x": null,
            "overflow_y": null,
            "padding": null,
            "right": null,
            "top": null,
            "visibility": null,
            "width": null
          }
        },
        "6678f0c9081e48b2bd039b2bb788d3d3": {
          "model_module": "@jupyter-widgets/controls",
          "model_name": "ProgressStyleModel",
          "model_module_version": "1.5.0",
          "state": {
            "_model_module": "@jupyter-widgets/controls",
            "_model_module_version": "1.5.0",
            "_model_name": "ProgressStyleModel",
            "_view_count": null,
            "_view_module": "@jupyter-widgets/base",
            "_view_module_version": "1.2.0",
            "_view_name": "StyleView",
            "bar_color": null,
            "description_width": ""
          }
        },
        "aeb8b78684844792b9716427d0f95984": {
          "model_module": "@jupyter-widgets/base",
          "model_name": "LayoutModel",
          "model_module_version": "1.2.0",
          "state": {
            "_model_module": "@jupyter-widgets/base",
            "_model_module_version": "1.2.0",
            "_model_name": "LayoutModel",
            "_view_count": null,
            "_view_module": "@jupyter-widgets/base",
            "_view_module_version": "1.2.0",
            "_view_name": "LayoutView",
            "align_content": null,
            "align_items": null,
            "align_self": null,
            "border": null,
            "bottom": null,
            "display": null,
            "flex": null,
            "flex_flow": null,
            "grid_area": null,
            "grid_auto_columns": null,
            "grid_auto_flow": null,
            "grid_auto_rows": null,
            "grid_column": null,
            "grid_gap": null,
            "grid_row": null,
            "grid_template_areas": null,
            "grid_template_columns": null,
            "grid_template_rows": null,
            "height": null,
            "justify_content": null,
            "justify_items": null,
            "left": null,
            "margin": null,
            "max_height": null,
            "max_width": null,
            "min_height": null,
            "min_width": null,
            "object_fit": null,
            "object_position": null,
            "order": null,
            "overflow": null,
            "overflow_x": null,
            "overflow_y": null,
            "padding": null,
            "right": null,
            "top": null,
            "visibility": null,
            "width": null
          }
        },
        "5c42b9b971684464a939495efb7fadeb": {
          "model_module": "@jupyter-widgets/controls",
          "model_name": "DescriptionStyleModel",
          "model_module_version": "1.5.0",
          "state": {
            "_model_module": "@jupyter-widgets/controls",
            "_model_module_version": "1.5.0",
            "_model_name": "DescriptionStyleModel",
            "_view_count": null,
            "_view_module": "@jupyter-widgets/base",
            "_view_module_version": "1.2.0",
            "_view_name": "StyleView",
            "description_width": ""
          }
        },
        "e26d58e449cb4ea18a61594084d66ff5": {
          "model_module": "@jupyter-widgets/controls",
          "model_name": "HBoxModel",
          "model_module_version": "1.5.0",
          "state": {
            "_dom_classes": [],
            "_model_module": "@jupyter-widgets/controls",
            "_model_module_version": "1.5.0",
            "_model_name": "HBoxModel",
            "_view_count": null,
            "_view_module": "@jupyter-widgets/controls",
            "_view_module_version": "1.5.0",
            "_view_name": "HBoxView",
            "box_style": "",
            "children": [
              "IPY_MODEL_84a9b9c9a29545a1a4f4914920d6b1d4",
              "IPY_MODEL_d146c062ccd94d929a649aa5ef606f37",
              "IPY_MODEL_23ea83ca94a6423a88b396d294293b62"
            ],
            "layout": "IPY_MODEL_507e3d9899944dfcbd01a8a28dd33930"
          }
        },
        "84a9b9c9a29545a1a4f4914920d6b1d4": {
          "model_module": "@jupyter-widgets/controls",
          "model_name": "HTMLModel",
          "model_module_version": "1.5.0",
          "state": {
            "_dom_classes": [],
            "_model_module": "@jupyter-widgets/controls",
            "_model_module_version": "1.5.0",
            "_model_name": "HTMLModel",
            "_view_count": null,
            "_view_module": "@jupyter-widgets/controls",
            "_view_module_version": "1.5.0",
            "_view_name": "HTMLView",
            "description": "",
            "description_tooltip": null,
            "layout": "IPY_MODEL_b591679196314bfbaf2ec39a5d5c1f66",
            "placeholder": "​",
            "style": "IPY_MODEL_06269a90dee14e18911697a21df7fc48",
            "value": "config.json: 100%"
          }
        },
        "d146c062ccd94d929a649aa5ef606f37": {
          "model_module": "@jupyter-widgets/controls",
          "model_name": "FloatProgressModel",
          "model_module_version": "1.5.0",
          "state": {
            "_dom_classes": [],
            "_model_module": "@jupyter-widgets/controls",
            "_model_module_version": "1.5.0",
            "_model_name": "FloatProgressModel",
            "_view_count": null,
            "_view_module": "@jupyter-widgets/controls",
            "_view_module_version": "1.5.0",
            "_view_name": "ProgressView",
            "bar_style": "success",
            "description": "",
            "description_tooltip": null,
            "layout": "IPY_MODEL_33bc07f162484758bc5efb0e09b42831",
            "max": 4683,
            "min": 0,
            "orientation": "horizontal",
            "style": "IPY_MODEL_a192e2a9fdff4e1f860b618523ab7b05",
            "value": 4683
          }
        },
        "23ea83ca94a6423a88b396d294293b62": {
          "model_module": "@jupyter-widgets/controls",
          "model_name": "HTMLModel",
          "model_module_version": "1.5.0",
          "state": {
            "_dom_classes": [],
            "_model_module": "@jupyter-widgets/controls",
            "_model_module_version": "1.5.0",
            "_model_name": "HTMLModel",
            "_view_count": null,
            "_view_module": "@jupyter-widgets/controls",
            "_view_module_version": "1.5.0",
            "_view_name": "HTMLView",
            "description": "",
            "description_tooltip": null,
            "layout": "IPY_MODEL_791aad5b511547fcae0d38c264cf6c5e",
            "placeholder": "​",
            "style": "IPY_MODEL_58e2064b5b5442b6ae4de46f3872bf2a",
            "value": " 4.68k/4.68k [00:00&lt;00:00, 208kB/s]"
          }
        },
        "507e3d9899944dfcbd01a8a28dd33930": {
          "model_module": "@jupyter-widgets/base",
          "model_name": "LayoutModel",
          "model_module_version": "1.2.0",
          "state": {
            "_model_module": "@jupyter-widgets/base",
            "_model_module_version": "1.2.0",
            "_model_name": "LayoutModel",
            "_view_count": null,
            "_view_module": "@jupyter-widgets/base",
            "_view_module_version": "1.2.0",
            "_view_name": "LayoutView",
            "align_content": null,
            "align_items": null,
            "align_self": null,
            "border": null,
            "bottom": null,
            "display": null,
            "flex": null,
            "flex_flow": null,
            "grid_area": null,
            "grid_auto_columns": null,
            "grid_auto_flow": null,
            "grid_auto_rows": null,
            "grid_column": null,
            "grid_gap": null,
            "grid_row": null,
            "grid_template_areas": null,
            "grid_template_columns": null,
            "grid_template_rows": null,
            "height": null,
            "justify_content": null,
            "justify_items": null,
            "left": null,
            "margin": null,
            "max_height": null,
            "max_width": null,
            "min_height": null,
            "min_width": null,
            "object_fit": null,
            "object_position": null,
            "order": null,
            "overflow": null,
            "overflow_x": null,
            "overflow_y": null,
            "padding": null,
            "right": null,
            "top": null,
            "visibility": null,
            "width": null
          }
        },
        "b591679196314bfbaf2ec39a5d5c1f66": {
          "model_module": "@jupyter-widgets/base",
          "model_name": "LayoutModel",
          "model_module_version": "1.2.0",
          "state": {
            "_model_module": "@jupyter-widgets/base",
            "_model_module_version": "1.2.0",
            "_model_name": "LayoutModel",
            "_view_count": null,
            "_view_module": "@jupyter-widgets/base",
            "_view_module_version": "1.2.0",
            "_view_name": "LayoutView",
            "align_content": null,
            "align_items": null,
            "align_self": null,
            "border": null,
            "bottom": null,
            "display": null,
            "flex": null,
            "flex_flow": null,
            "grid_area": null,
            "grid_auto_columns": null,
            "grid_auto_flow": null,
            "grid_auto_rows": null,
            "grid_column": null,
            "grid_gap": null,
            "grid_row": null,
            "grid_template_areas": null,
            "grid_template_columns": null,
            "grid_template_rows": null,
            "height": null,
            "justify_content": null,
            "justify_items": null,
            "left": null,
            "margin": null,
            "max_height": null,
            "max_width": null,
            "min_height": null,
            "min_width": null,
            "object_fit": null,
            "object_position": null,
            "order": null,
            "overflow": null,
            "overflow_x": null,
            "overflow_y": null,
            "padding": null,
            "right": null,
            "top": null,
            "visibility": null,
            "width": null
          }
        },
        "06269a90dee14e18911697a21df7fc48": {
          "model_module": "@jupyter-widgets/controls",
          "model_name": "DescriptionStyleModel",
          "model_module_version": "1.5.0",
          "state": {
            "_model_module": "@jupyter-widgets/controls",
            "_model_module_version": "1.5.0",
            "_model_name": "DescriptionStyleModel",
            "_view_count": null,
            "_view_module": "@jupyter-widgets/base",
            "_view_module_version": "1.2.0",
            "_view_name": "StyleView",
            "description_width": ""
          }
        },
        "33bc07f162484758bc5efb0e09b42831": {
          "model_module": "@jupyter-widgets/base",
          "model_name": "LayoutModel",
          "model_module_version": "1.2.0",
          "state": {
            "_model_module": "@jupyter-widgets/base",
            "_model_module_version": "1.2.0",
            "_model_name": "LayoutModel",
            "_view_count": null,
            "_view_module": "@jupyter-widgets/base",
            "_view_module_version": "1.2.0",
            "_view_name": "LayoutView",
            "align_content": null,
            "align_items": null,
            "align_self": null,
            "border": null,
            "bottom": null,
            "display": null,
            "flex": null,
            "flex_flow": null,
            "grid_area": null,
            "grid_auto_columns": null,
            "grid_auto_flow": null,
            "grid_auto_rows": null,
            "grid_column": null,
            "grid_gap": null,
            "grid_row": null,
            "grid_template_areas": null,
            "grid_template_columns": null,
            "grid_template_rows": null,
            "height": null,
            "justify_content": null,
            "justify_items": null,
            "left": null,
            "margin": null,
            "max_height": null,
            "max_width": null,
            "min_height": null,
            "min_width": null,
            "object_fit": null,
            "object_position": null,
            "order": null,
            "overflow": null,
            "overflow_x": null,
            "overflow_y": null,
            "padding": null,
            "right": null,
            "top": null,
            "visibility": null,
            "width": null
          }
        },
        "a192e2a9fdff4e1f860b618523ab7b05": {
          "model_module": "@jupyter-widgets/controls",
          "model_name": "ProgressStyleModel",
          "model_module_version": "1.5.0",
          "state": {
            "_model_module": "@jupyter-widgets/controls",
            "_model_module_version": "1.5.0",
            "_model_name": "ProgressStyleModel",
            "_view_count": null,
            "_view_module": "@jupyter-widgets/base",
            "_view_module_version": "1.2.0",
            "_view_name": "StyleView",
            "bar_color": null,
            "description_width": ""
          }
        },
        "791aad5b511547fcae0d38c264cf6c5e": {
          "model_module": "@jupyter-widgets/base",
          "model_name": "LayoutModel",
          "model_module_version": "1.2.0",
          "state": {
            "_model_module": "@jupyter-widgets/base",
            "_model_module_version": "1.2.0",
            "_model_name": "LayoutModel",
            "_view_count": null,
            "_view_module": "@jupyter-widgets/base",
            "_view_module_version": "1.2.0",
            "_view_name": "LayoutView",
            "align_content": null,
            "align_items": null,
            "align_self": null,
            "border": null,
            "bottom": null,
            "display": null,
            "flex": null,
            "flex_flow": null,
            "grid_area": null,
            "grid_auto_columns": null,
            "grid_auto_flow": null,
            "grid_auto_rows": null,
            "grid_column": null,
            "grid_gap": null,
            "grid_row": null,
            "grid_template_areas": null,
            "grid_template_columns": null,
            "grid_template_rows": null,
            "height": null,
            "justify_content": null,
            "justify_items": null,
            "left": null,
            "margin": null,
            "max_height": null,
            "max_width": null,
            "min_height": null,
            "min_width": null,
            "object_fit": null,
            "object_position": null,
            "order": null,
            "overflow": null,
            "overflow_x": null,
            "overflow_y": null,
            "padding": null,
            "right": null,
            "top": null,
            "visibility": null,
            "width": null
          }
        },
        "58e2064b5b5442b6ae4de46f3872bf2a": {
          "model_module": "@jupyter-widgets/controls",
          "model_name": "DescriptionStyleModel",
          "model_module_version": "1.5.0",
          "state": {
            "_model_module": "@jupyter-widgets/controls",
            "_model_module_version": "1.5.0",
            "_model_name": "DescriptionStyleModel",
            "_view_count": null,
            "_view_module": "@jupyter-widgets/base",
            "_view_module_version": "1.2.0",
            "_view_name": "StyleView",
            "description_width": ""
          }
        },
        "d639e250afcb4a3dbc54eea298389dd0": {
          "model_module": "@jupyter-widgets/controls",
          "model_name": "HBoxModel",
          "model_module_version": "1.5.0",
          "state": {
            "_dom_classes": [],
            "_model_module": "@jupyter-widgets/controls",
            "_model_module_version": "1.5.0",
            "_model_name": "HBoxModel",
            "_view_count": null,
            "_view_module": "@jupyter-widgets/controls",
            "_view_module_version": "1.5.0",
            "_view_name": "HBoxView",
            "box_style": "",
            "children": [
              "IPY_MODEL_884cec15979f42848b98ba27071c3ffe",
              "IPY_MODEL_b49d2b53a438442fac15d25c342c2ec3",
              "IPY_MODEL_6091dca517e44942841c49cd9d7bdc27"
            ],
            "layout": "IPY_MODEL_f85702ec876d4898b5ae6bdf25e2231e"
          }
        },
        "884cec15979f42848b98ba27071c3ffe": {
          "model_module": "@jupyter-widgets/controls",
          "model_name": "HTMLModel",
          "model_module_version": "1.5.0",
          "state": {
            "_dom_classes": [],
            "_model_module": "@jupyter-widgets/controls",
            "_model_module_version": "1.5.0",
            "_model_name": "HTMLModel",
            "_view_count": null,
            "_view_module": "@jupyter-widgets/controls",
            "_view_module_version": "1.5.0",
            "_view_name": "HTMLView",
            "description": "",
            "description_tooltip": null,
            "layout": "IPY_MODEL_74b6628c6a214fe5a99a0cef56316e46",
            "placeholder": "​",
            "style": "IPY_MODEL_1c667404962c41a7b985c9081209ef13",
            "value": "pytorch_model.bin: 100%"
          }
        },
        "b49d2b53a438442fac15d25c342c2ec3": {
          "model_module": "@jupyter-widgets/controls",
          "model_name": "FloatProgressModel",
          "model_module_version": "1.5.0",
          "state": {
            "_dom_classes": [],
            "_model_module": "@jupyter-widgets/controls",
            "_model_module_version": "1.5.0",
            "_model_name": "FloatProgressModel",
            "_view_count": null,
            "_view_module": "@jupyter-widgets/controls",
            "_view_module_version": "1.5.0",
            "_view_name": "ProgressView",
            "bar_style": "success",
            "description": "",
            "description_tooltip": null,
            "layout": "IPY_MODEL_c020977ec4484701aad130ebced54334",
            "max": 343568433,
            "min": 0,
            "orientation": "horizontal",
            "style": "IPY_MODEL_c4bf672b4b454446ac921a43c52c599a",
            "value": 343568433
          }
        },
        "6091dca517e44942841c49cd9d7bdc27": {
          "model_module": "@jupyter-widgets/controls",
          "model_name": "HTMLModel",
          "model_module_version": "1.5.0",
          "state": {
            "_dom_classes": [],
            "_model_module": "@jupyter-widgets/controls",
            "_model_module_version": "1.5.0",
            "_model_name": "HTMLModel",
            "_view_count": null,
            "_view_module": "@jupyter-widgets/controls",
            "_view_module_version": "1.5.0",
            "_view_name": "HTMLView",
            "description": "",
            "description_tooltip": null,
            "layout": "IPY_MODEL_7a25417b432c4ea8a69873d0a41ebe67",
            "placeholder": "​",
            "style": "IPY_MODEL_366d65f22f1d4871a0dd0eee595cc7ac",
            "value": " 344M/344M [00:02&lt;00:00, 181MB/s]"
          }
        },
        "f85702ec876d4898b5ae6bdf25e2231e": {
          "model_module": "@jupyter-widgets/base",
          "model_name": "LayoutModel",
          "model_module_version": "1.2.0",
          "state": {
            "_model_module": "@jupyter-widgets/base",
            "_model_module_version": "1.2.0",
            "_model_name": "LayoutModel",
            "_view_count": null,
            "_view_module": "@jupyter-widgets/base",
            "_view_module_version": "1.2.0",
            "_view_name": "LayoutView",
            "align_content": null,
            "align_items": null,
            "align_self": null,
            "border": null,
            "bottom": null,
            "display": null,
            "flex": null,
            "flex_flow": null,
            "grid_area": null,
            "grid_auto_columns": null,
            "grid_auto_flow": null,
            "grid_auto_rows": null,
            "grid_column": null,
            "grid_gap": null,
            "grid_row": null,
            "grid_template_areas": null,
            "grid_template_columns": null,
            "grid_template_rows": null,
            "height": null,
            "justify_content": null,
            "justify_items": null,
            "left": null,
            "margin": null,
            "max_height": null,
            "max_width": null,
            "min_height": null,
            "min_width": null,
            "object_fit": null,
            "object_position": null,
            "order": null,
            "overflow": null,
            "overflow_x": null,
            "overflow_y": null,
            "padding": null,
            "right": null,
            "top": null,
            "visibility": null,
            "width": null
          }
        },
        "74b6628c6a214fe5a99a0cef56316e46": {
          "model_module": "@jupyter-widgets/base",
          "model_name": "LayoutModel",
          "model_module_version": "1.2.0",
          "state": {
            "_model_module": "@jupyter-widgets/base",
            "_model_module_version": "1.2.0",
            "_model_name": "LayoutModel",
            "_view_count": null,
            "_view_module": "@jupyter-widgets/base",
            "_view_module_version": "1.2.0",
            "_view_name": "LayoutView",
            "align_content": null,
            "align_items": null,
            "align_self": null,
            "border": null,
            "bottom": null,
            "display": null,
            "flex": null,
            "flex_flow": null,
            "grid_area": null,
            "grid_auto_columns": null,
            "grid_auto_flow": null,
            "grid_auto_rows": null,
            "grid_column": null,
            "grid_gap": null,
            "grid_row": null,
            "grid_template_areas": null,
            "grid_template_columns": null,
            "grid_template_rows": null,
            "height": null,
            "justify_content": null,
            "justify_items": null,
            "left": null,
            "margin": null,
            "max_height": null,
            "max_width": null,
            "min_height": null,
            "min_width": null,
            "object_fit": null,
            "object_position": null,
            "order": null,
            "overflow": null,
            "overflow_x": null,
            "overflow_y": null,
            "padding": null,
            "right": null,
            "top": null,
            "visibility": null,
            "width": null
          }
        },
        "1c667404962c41a7b985c9081209ef13": {
          "model_module": "@jupyter-widgets/controls",
          "model_name": "DescriptionStyleModel",
          "model_module_version": "1.5.0",
          "state": {
            "_model_module": "@jupyter-widgets/controls",
            "_model_module_version": "1.5.0",
            "_model_name": "DescriptionStyleModel",
            "_view_count": null,
            "_view_module": "@jupyter-widgets/base",
            "_view_module_version": "1.2.0",
            "_view_name": "StyleView",
            "description_width": ""
          }
        },
        "c020977ec4484701aad130ebced54334": {
          "model_module": "@jupyter-widgets/base",
          "model_name": "LayoutModel",
          "model_module_version": "1.2.0",
          "state": {
            "_model_module": "@jupyter-widgets/base",
            "_model_module_version": "1.2.0",
            "_model_name": "LayoutModel",
            "_view_count": null,
            "_view_module": "@jupyter-widgets/base",
            "_view_module_version": "1.2.0",
            "_view_name": "LayoutView",
            "align_content": null,
            "align_items": null,
            "align_self": null,
            "border": null,
            "bottom": null,
            "display": null,
            "flex": null,
            "flex_flow": null,
            "grid_area": null,
            "grid_auto_columns": null,
            "grid_auto_flow": null,
            "grid_auto_rows": null,
            "grid_column": null,
            "grid_gap": null,
            "grid_row": null,
            "grid_template_areas": null,
            "grid_template_columns": null,
            "grid_template_rows": null,
            "height": null,
            "justify_content": null,
            "justify_items": null,
            "left": null,
            "margin": null,
            "max_height": null,
            "max_width": null,
            "min_height": null,
            "min_width": null,
            "object_fit": null,
            "object_position": null,
            "order": null,
            "overflow": null,
            "overflow_x": null,
            "overflow_y": null,
            "padding": null,
            "right": null,
            "top": null,
            "visibility": null,
            "width": null
          }
        },
        "c4bf672b4b454446ac921a43c52c599a": {
          "model_module": "@jupyter-widgets/controls",
          "model_name": "ProgressStyleModel",
          "model_module_version": "1.5.0",
          "state": {
            "_model_module": "@jupyter-widgets/controls",
            "_model_module_version": "1.5.0",
            "_model_name": "ProgressStyleModel",
            "_view_count": null,
            "_view_module": "@jupyter-widgets/base",
            "_view_module_version": "1.2.0",
            "_view_name": "StyleView",
            "bar_color": null,
            "description_width": ""
          }
        },
        "7a25417b432c4ea8a69873d0a41ebe67": {
          "model_module": "@jupyter-widgets/base",
          "model_name": "LayoutModel",
          "model_module_version": "1.2.0",
          "state": {
            "_model_module": "@jupyter-widgets/base",
            "_model_module_version": "1.2.0",
            "_model_name": "LayoutModel",
            "_view_count": null,
            "_view_module": "@jupyter-widgets/base",
            "_view_module_version": "1.2.0",
            "_view_name": "LayoutView",
            "align_content": null,
            "align_items": null,
            "align_self": null,
            "border": null,
            "bottom": null,
            "display": null,
            "flex": null,
            "flex_flow": null,
            "grid_area": null,
            "grid_auto_columns": null,
            "grid_auto_flow": null,
            "grid_auto_rows": null,
            "grid_column": null,
            "grid_gap": null,
            "grid_row": null,
            "grid_template_areas": null,
            "grid_template_columns": null,
            "grid_template_rows": null,
            "height": null,
            "justify_content": null,
            "justify_items": null,
            "left": null,
            "margin": null,
            "max_height": null,
            "max_width": null,
            "min_height": null,
            "min_width": null,
            "object_fit": null,
            "object_position": null,
            "order": null,
            "overflow": null,
            "overflow_x": null,
            "overflow_y": null,
            "padding": null,
            "right": null,
            "top": null,
            "visibility": null,
            "width": null
          }
        },
        "366d65f22f1d4871a0dd0eee595cc7ac": {
          "model_module": "@jupyter-widgets/controls",
          "model_name": "DescriptionStyleModel",
          "model_module_version": "1.5.0",
          "state": {
            "_model_module": "@jupyter-widgets/controls",
            "_model_module_version": "1.5.0",
            "_model_name": "DescriptionStyleModel",
            "_view_count": null,
            "_view_module": "@jupyter-widgets/base",
            "_view_module_version": "1.2.0",
            "_view_name": "StyleView",
            "description_width": ""
          }
        }
      }
    }
  },
  "cells": [
    {
      "cell_type": "code",
      "source": [
        "#ECE6885 WH6 6.1 Practice Problem#\n",
        "# Alper Emin Cetinkaya G45307115 #"
      ],
      "metadata": {
        "id": "JTJFS4qnyjrg"
      },
      "execution_count": 1,
      "outputs": []
    },
    {
      "cell_type": "code",
      "source": [
        "import torch\n",
        "from torchvision import models, transforms\n",
        "from PIL import Image\n",
        "import torchvision\n",
        "from torch.utils.data import DataLoader\n",
        "from sklearn.metrics import confusion_matrix\n",
        "import numpy as np"
      ],
      "metadata": {
        "id": "MLirWvE8VKvE"
      },
      "execution_count": 2,
      "outputs": []
    },
    {
      "cell_type": "code",
      "execution_count": 3,
      "metadata": {
        "colab": {
          "base_uri": "https://localhost:8080/",
          "height": 150,
          "referenced_widgets": [
            "c8adefc18a1c449688ca345fb30d74f7",
            "d3191aeb9e2d4359941b963225144ab2",
            "bf595271fb3745eba8fa5174c35d0d5c",
            "008890e280dd4cbdb529ff41abccf503",
            "483436dddaa443238e22d54673078b0b",
            "8d7fa161aa604bcea388e7513c7a7955",
            "b5d48e5c0cf644dc9ce2030b24063bfb",
            "5bcb41099a504821ad1224c87509d6fa",
            "6678f0c9081e48b2bd039b2bb788d3d3",
            "aeb8b78684844792b9716427d0f95984",
            "5c42b9b971684464a939495efb7fadeb",
            "e26d58e449cb4ea18a61594084d66ff5",
            "84a9b9c9a29545a1a4f4914920d6b1d4",
            "d146c062ccd94d929a649aa5ef606f37",
            "23ea83ca94a6423a88b396d294293b62",
            "507e3d9899944dfcbd01a8a28dd33930",
            "b591679196314bfbaf2ec39a5d5c1f66",
            "06269a90dee14e18911697a21df7fc48",
            "33bc07f162484758bc5efb0e09b42831",
            "a192e2a9fdff4e1f860b618523ab7b05",
            "791aad5b511547fcae0d38c264cf6c5e",
            "58e2064b5b5442b6ae4de46f3872bf2a",
            "d639e250afcb4a3dbc54eea298389dd0",
            "884cec15979f42848b98ba27071c3ffe",
            "b49d2b53a438442fac15d25c342c2ec3",
            "6091dca517e44942841c49cd9d7bdc27",
            "f85702ec876d4898b5ae6bdf25e2231e",
            "74b6628c6a214fe5a99a0cef56316e46",
            "1c667404962c41a7b985c9081209ef13",
            "c020977ec4484701aad130ebced54334",
            "c4bf672b4b454446ac921a43c52c599a",
            "7a25417b432c4ea8a69873d0a41ebe67",
            "366d65f22f1d4871a0dd0eee595cc7ac"
          ]
        },
        "id": "6SiB_n1OVHKO",
        "outputId": "2a8e726d-2b1b-4008-d047-2ccf79ce4d34"
      },
      "outputs": [
        {
          "output_type": "display_data",
          "data": {
            "text/plain": [
              "preprocessor_config.json:   0%|          | 0.00/228 [00:00<?, ?B/s]"
            ],
            "application/vnd.jupyter.widget-view+json": {
              "version_major": 2,
              "version_minor": 0,
              "model_id": "c8adefc18a1c449688ca345fb30d74f7"
            }
          },
          "metadata": {}
        },
        {
          "output_type": "stream",
          "name": "stderr",
          "text": [
            "Could not find image processor class in the image processor config or the model config. Loading based on pattern matching with the model's feature extractor configuration.\n"
          ]
        },
        {
          "output_type": "display_data",
          "data": {
            "text/plain": [
              "config.json:   0%|          | 0.00/4.68k [00:00<?, ?B/s]"
            ],
            "application/vnd.jupyter.widget-view+json": {
              "version_major": 2,
              "version_minor": 0,
              "model_id": "e26d58e449cb4ea18a61594084d66ff5"
            }
          },
          "metadata": {}
        },
        {
          "output_type": "display_data",
          "data": {
            "text/plain": [
              "pytorch_model.bin:   0%|          | 0.00/344M [00:00<?, ?B/s]"
            ],
            "application/vnd.jupyter.widget-view+json": {
              "version_major": 2,
              "version_minor": 0,
              "model_id": "d639e250afcb4a3dbc54eea298389dd0"
            }
          },
          "metadata": {}
        }
      ],
      "source": [
        "from transformers import AutoImageProcessor, AutoModelForImageClassification\n",
        "\n",
        "processor = AutoImageProcessor.from_pretrained(\"Ahmed9275/Vit-Cifar100\")\n",
        "model = AutoModelForImageClassification.from_pretrained(\"Ahmed9275/Vit-Cifar100\")"
      ]
    },
    {
      "cell_type": "code",
      "source": [
        "model.eval()"
      ],
      "metadata": {
        "colab": {
          "base_uri": "https://localhost:8080/"
        },
        "id": "qyffFejSVhc3",
        "outputId": "132b1c22-5523-4a52-9a28-979778bb00da"
      },
      "execution_count": 4,
      "outputs": [
        {
          "output_type": "execute_result",
          "data": {
            "text/plain": [
              "ViTForImageClassification(\n",
              "  (vit): ViTModel(\n",
              "    (embeddings): ViTEmbeddings(\n",
              "      (patch_embeddings): ViTPatchEmbeddings(\n",
              "        (projection): Conv2d(3, 768, kernel_size=(16, 16), stride=(16, 16))\n",
              "      )\n",
              "      (dropout): Dropout(p=0.0, inplace=False)\n",
              "    )\n",
              "    (encoder): ViTEncoder(\n",
              "      (layer): ModuleList(\n",
              "        (0-11): 12 x ViTLayer(\n",
              "          (attention): ViTAttention(\n",
              "            (attention): ViTSelfAttention(\n",
              "              (query): Linear(in_features=768, out_features=768, bias=True)\n",
              "              (key): Linear(in_features=768, out_features=768, bias=True)\n",
              "              (value): Linear(in_features=768, out_features=768, bias=True)\n",
              "              (dropout): Dropout(p=0.0, inplace=False)\n",
              "            )\n",
              "            (output): ViTSelfOutput(\n",
              "              (dense): Linear(in_features=768, out_features=768, bias=True)\n",
              "              (dropout): Dropout(p=0.0, inplace=False)\n",
              "            )\n",
              "          )\n",
              "          (intermediate): ViTIntermediate(\n",
              "            (dense): Linear(in_features=768, out_features=3072, bias=True)\n",
              "            (intermediate_act_fn): GELUActivation()\n",
              "          )\n",
              "          (output): ViTOutput(\n",
              "            (dense): Linear(in_features=3072, out_features=768, bias=True)\n",
              "            (dropout): Dropout(p=0.0, inplace=False)\n",
              "          )\n",
              "          (layernorm_before): LayerNorm((768,), eps=1e-12, elementwise_affine=True)\n",
              "          (layernorm_after): LayerNorm((768,), eps=1e-12, elementwise_affine=True)\n",
              "        )\n",
              "      )\n",
              "    )\n",
              "    (layernorm): LayerNorm((768,), eps=1e-12, elementwise_affine=True)\n",
              "  )\n",
              "  (classifier): Linear(in_features=768, out_features=100, bias=True)\n",
              ")"
            ]
          },
          "metadata": {},
          "execution_count": 4
        }
      ]
    },
    {
      "cell_type": "code",
      "source": [
        "preprocess = transforms.Compose([\n",
        "    transforms.Resize((224, 224)),\n",
        "    transforms.ToTensor()\n",
        "])"
      ],
      "metadata": {
        "id": "4VIF0zauVmyn"
      },
      "execution_count": 5,
      "outputs": []
    },
    {
      "cell_type": "code",
      "source": [
        "cifar100_test = torchvision.datasets.CIFAR100(root='./data', train=False, download=True, transform=preprocess)\n",
        "cifar100_test_loader = DataLoader(\n",
        "        cifar100_test, shuffle=True, num_workers=4, batch_size=32)"
      ],
      "metadata": {
        "colab": {
          "base_uri": "https://localhost:8080/"
        },
        "id": "NyCDCdeBVp5d",
        "outputId": "562f72b6-e27d-4418-9443-b0e940737126"
      },
      "execution_count": 6,
      "outputs": [
        {
          "output_type": "stream",
          "name": "stdout",
          "text": [
            "Downloading https://www.cs.toronto.edu/~kriz/cifar-100-python.tar.gz to ./data/cifar-100-python.tar.gz\n"
          ]
        },
        {
          "output_type": "stream",
          "name": "stderr",
          "text": [
            "100%|██████████| 169001437/169001437 [00:04<00:00, 34448777.65it/s]\n"
          ]
        },
        {
          "output_type": "stream",
          "name": "stdout",
          "text": [
            "Extracting ./data/cifar-100-python.tar.gz to ./data\n"
          ]
        },
        {
          "output_type": "stream",
          "name": "stderr",
          "text": [
            "/usr/local/lib/python3.10/dist-packages/torch/utils/data/dataloader.py:557: UserWarning: This DataLoader will create 4 worker processes in total. Our suggested max number of worker in current system is 2, which is smaller than what this DataLoader is going to create. Please be aware that excessive worker creation might get DataLoader running slow or even freeze, lower the worker number to avoid potential slowness/freeze if necessary.\n",
            "  warnings.warn(_create_warning_msg(\n"
          ]
        }
      ]
    },
    {
      "cell_type": "code",
      "source": [
        "device = \"cuda\""
      ],
      "metadata": {
        "id": "Ospj8NdLVvLz"
      },
      "execution_count": 7,
      "outputs": []
    },
    {
      "cell_type": "code",
      "source": [
        "model.to(device)"
      ],
      "metadata": {
        "colab": {
          "base_uri": "https://localhost:8080/"
        },
        "id": "pNzXU4GYWuJ-",
        "outputId": "042550fe-c1de-40ca-d35b-30de6435a9a0"
      },
      "execution_count": 8,
      "outputs": [
        {
          "output_type": "execute_result",
          "data": {
            "text/plain": [
              "ViTForImageClassification(\n",
              "  (vit): ViTModel(\n",
              "    (embeddings): ViTEmbeddings(\n",
              "      (patch_embeddings): ViTPatchEmbeddings(\n",
              "        (projection): Conv2d(3, 768, kernel_size=(16, 16), stride=(16, 16))\n",
              "      )\n",
              "      (dropout): Dropout(p=0.0, inplace=False)\n",
              "    )\n",
              "    (encoder): ViTEncoder(\n",
              "      (layer): ModuleList(\n",
              "        (0-11): 12 x ViTLayer(\n",
              "          (attention): ViTAttention(\n",
              "            (attention): ViTSelfAttention(\n",
              "              (query): Linear(in_features=768, out_features=768, bias=True)\n",
              "              (key): Linear(in_features=768, out_features=768, bias=True)\n",
              "              (value): Linear(in_features=768, out_features=768, bias=True)\n",
              "              (dropout): Dropout(p=0.0, inplace=False)\n",
              "            )\n",
              "            (output): ViTSelfOutput(\n",
              "              (dense): Linear(in_features=768, out_features=768, bias=True)\n",
              "              (dropout): Dropout(p=0.0, inplace=False)\n",
              "            )\n",
              "          )\n",
              "          (intermediate): ViTIntermediate(\n",
              "            (dense): Linear(in_features=768, out_features=3072, bias=True)\n",
              "            (intermediate_act_fn): GELUActivation()\n",
              "          )\n",
              "          (output): ViTOutput(\n",
              "            (dense): Linear(in_features=3072, out_features=768, bias=True)\n",
              "            (dropout): Dropout(p=0.0, inplace=False)\n",
              "          )\n",
              "          (layernorm_before): LayerNorm((768,), eps=1e-12, elementwise_affine=True)\n",
              "          (layernorm_after): LayerNorm((768,), eps=1e-12, elementwise_affine=True)\n",
              "        )\n",
              "      )\n",
              "    )\n",
              "    (layernorm): LayerNorm((768,), eps=1e-12, elementwise_affine=True)\n",
              "  )\n",
              "  (classifier): Linear(in_features=768, out_features=100, bias=True)\n",
              ")"
            ]
          },
          "metadata": {},
          "execution_count": 8
        }
      ]
    },
    {
      "cell_type": "code",
      "source": [
        "def evaluate_model(model, dataloader, device):\n",
        "    correct_predictions = 0\n",
        "    total_samples = 0\n",
        "    all_labels = []\n",
        "    all_predictions = []\n",
        "\n",
        "    with torch.no_grad():\n",
        "        for inputs, labels in dataloader:\n",
        "            inputs, labels = inputs.to(device), labels.to(device)\n",
        "            outputs = model(inputs)\n",
        "            _, predicted = torch.max(outputs.logits, 1)\n",
        "            correct_predictions += (predicted == labels).sum().item()\n",
        "            total_samples += labels.size(0)\n",
        "\n",
        "            all_labels.extend(labels.cpu().numpy())\n",
        "            all_predictions.extend(predicted.cpu().numpy())\n",
        "\n",
        "    accuracy = correct_predictions / total_samples\n",
        "\n",
        "    return accuracy, all_labels, all_predictions"
      ],
      "metadata": {
        "id": "IivN1Xd1V_Le"
      },
      "execution_count": 9,
      "outputs": []
    },
    {
      "cell_type": "code",
      "source": [
        "accuracy, all_labels, all_predictions = evaluate_model(model, cifar100_test_loader, device)"
      ],
      "metadata": {
        "id": "5eHCaVPBWFe3"
      },
      "execution_count": 10,
      "outputs": []
    },
    {
      "cell_type": "code",
      "source": [
        "accuracy"
      ],
      "metadata": {
        "colab": {
          "base_uri": "https://localhost:8080/"
        },
        "id": "mhZTOACRbnzW",
        "outputId": "e043710a-daf2-46e4-d966-beed228b8b02"
      },
      "execution_count": 11,
      "outputs": [
        {
          "output_type": "execute_result",
          "data": {
            "text/plain": [
              "0.8127"
            ]
          },
          "metadata": {},
          "execution_count": 11
        }
      ]
    },
    {
      "cell_type": "code",
      "source": [
        "conf_matrix = confusion_matrix(all_labels, all_predictions)\n",
        "print(\"Confusion Matrix:\")\n",
        "print(conf_matrix)"
      ],
      "metadata": {
        "colab": {
          "base_uri": "https://localhost:8080/"
        },
        "id": "An5NCiU5WKp5",
        "outputId": "eb6065ad-ab70-4177-ee03-374fc3000ae6"
      },
      "execution_count": 12,
      "outputs": [
        {
          "output_type": "stream",
          "name": "stdout",
          "text": [
            "Confusion Matrix:\n",
            "[[94  0  1 ...  0  0  0]\n",
            " [ 0 90  0 ...  0  0  0]\n",
            " [ 0  0 73 ...  0  0  0]\n",
            " ...\n",
            " [ 0  0  0 ... 82  0  0]\n",
            " [ 0  0  2 ...  0 74  0]\n",
            " [ 0  0  1 ...  0  0 92]]\n"
          ]
        }
      ]
    },
    {
      "cell_type": "code",
      "source": [
        "len(conf_matrix)"
      ],
      "metadata": {
        "colab": {
          "base_uri": "https://localhost:8080/"
        },
        "id": "dce1aXenXl-B",
        "outputId": "b9e6c0cb-21c8-45c7-fdfd-c884d92527e6"
      },
      "execution_count": 13,
      "outputs": [
        {
          "output_type": "execute_result",
          "data": {
            "text/plain": [
              "100"
            ]
          },
          "metadata": {},
          "execution_count": 13
        }
      ]
    },
    {
      "cell_type": "code",
      "source": [
        "class_accuracy = np.diag(conf_matrix) / np.sum(conf_matrix, axis=1)"
      ],
      "metadata": {
        "id": "cXNBTMnRayL6"
      },
      "execution_count": 14,
      "outputs": []
    },
    {
      "cell_type": "code",
      "source": [
        "class_accuracy"
      ],
      "metadata": {
        "colab": {
          "base_uri": "https://localhost:8080/"
        },
        "id": "EGzEkziGbb3i",
        "outputId": "cb5bad2d-2bb0-49de-df15-7a2c6ef24600"
      },
      "execution_count": 15,
      "outputs": [
        {
          "output_type": "execute_result",
          "data": {
            "text/plain": [
              "array([0.94, 0.9 , 0.73, 0.63, 0.56, 0.89, 0.76, 0.87, 0.98, 0.9 , 0.6 ,\n",
              "       0.76, 0.84, 0.77, 0.78, 0.88, 0.87, 0.91, 0.84, 0.84, 0.96, 0.82,\n",
              "       0.88, 0.91, 0.9 , 0.8 , 0.79, 0.6 , 0.9 , 0.78, 0.73, 0.92, 0.71,\n",
              "       0.79, 0.89, 0.54, 0.81, 0.71, 0.81, 0.93, 0.86, 0.9 , 0.8 , 0.86,\n",
              "       0.71, 0.64, 0.69, 0.69, 0.93, 0.89, 0.72, 0.87, 0.41, 0.92, 0.94,\n",
              "       0.57, 0.88, 0.93, 0.92, 0.58, 0.84, 0.91, 0.83, 0.81, 0.68, 0.88,\n",
              "       0.85, 0.82, 0.97, 0.92, 0.79, 0.86, 0.68, 0.79, 0.66, 0.92, 0.94,\n",
              "       0.79, 0.68, 0.84, 0.79, 0.82, 0.96, 0.81, 0.83, 0.86, 0.87, 0.91,\n",
              "       0.84, 0.92, 0.72, 0.94, 0.76, 0.71, 0.95, 0.77, 0.73, 0.82, 0.74,\n",
              "       0.92])"
            ]
          },
          "metadata": {},
          "execution_count": 15
        }
      ]
    },
    {
      "cell_type": "code",
      "source": [
        "cifar100_labels = [\n",
        "'apple',\n",
        "'aquarium_fish',\n",
        "'baby',\n",
        "'bear',\n",
        "'beaver',\n",
        "'bed',\n",
        "'bee',\n",
        "'beetle',\n",
        "'bicycle',\n",
        "'bottle',\n",
        "'bowl',\n",
        "'boy',\n",
        "'bridge',\n",
        "'bus',\n",
        "'butterfly',\n",
        "'camel',\n",
        "'can',\n",
        "'castle',\n",
        "'caterpillar',\n",
        "'cattle',\n",
        "'chair',\n",
        "'chimpanzee',\n",
        "'clock',\n",
        "'cloud',\n",
        "'cockroach',\n",
        "'couch',\n",
        "'crab',\n",
        "'crocodile',\n",
        "'cup',\n",
        "'dinosaur',\n",
        "'dolphin',\n",
        "'elephant',\n",
        "'flatfish',\n",
        "'forest',\n",
        "'fox',\n",
        "'girl',\n",
        "'hamster',\n",
        "'house',\n",
        "'kangaroo',\n",
        "'computer_keyboard',\n",
        "'lamp',\n",
        "'lawn_mower',\n",
        "'leopard',\n",
        "'lion',\n",
        "'lizard',\n",
        "'lobster',\n",
        "'man',\n",
        "'maple_tree',\n",
        "'motorcycle',\n",
        "'mountain',\n",
        "'mouse',\n",
        "'mushroom',\n",
        "'oak_tree',\n",
        "'orange',\n",
        "'orchid',\n",
        "'otter',\n",
        "'palm_tree',\n",
        "'pear',\n",
        "'pickup_truck',\n",
        "'pine_tree',\n",
        "'plain',\n",
        "'plate',\n",
        "'poppy',\n",
        "'porcupine',\n",
        "'possum',\n",
        "'rabbit',\n",
        "'raccoon',\n",
        "'ray',\n",
        "'road',\n",
        "'rocket',\n",
        "'rose',\n",
        "'sea',\n",
        "'seal',\n",
        "'shark',\n",
        "'shrew',\n",
        "'skunk',\n",
        "'skyscraper',\n",
        "'snail',\n",
        "'snake',\n",
        "'spider',\n",
        "'squirrel',\n",
        "'streetcar',\n",
        "'sunflower',\n",
        "'sweet_pepper',\n",
        "'table',\n",
        "'tank',\n",
        "'telephone',\n",
        "'television',\n",
        "'tiger',\n",
        "'tractor',\n",
        "'train',\n",
        "'trout',\n",
        "'tulip',\n",
        "'turtle',\n",
        "'wardrobe',\n",
        "'whale',\n",
        "'willow_tree',\n",
        "'wolf',\n",
        "'woman',\n",
        "'worm',\n",
        "]"
      ],
      "metadata": {
        "id": "o5nXxaY8bi_d"
      },
      "execution_count": 16,
      "outputs": []
    },
    {
      "cell_type": "code",
      "source": [
        "class_accuracies = {}"
      ],
      "metadata": {
        "id": "llP2fmBqdPop"
      },
      "execution_count": 17,
      "outputs": []
    },
    {
      "cell_type": "code",
      "source": [
        "for acc, cls in zip(class_accuracy, cifar100_labels):\n",
        "  class_accuracies[cls] = acc"
      ],
      "metadata": {
        "id": "0I8rpzpIcBIE"
      },
      "execution_count": 18,
      "outputs": []
    },
    {
      "cell_type": "code",
      "source": [
        "class_accuracies = dict(sorted(class_accuracies.items(), key=lambda item: item[1]))"
      ],
      "metadata": {
        "id": "VEgRJZ05dY1X"
      },
      "execution_count": 19,
      "outputs": []
    },
    {
      "cell_type": "code",
      "source": [
        "class_accuracies"
      ],
      "metadata": {
        "colab": {
          "base_uri": "https://localhost:8080/"
        },
        "id": "Q5pOBZ4Edny6",
        "outputId": "308a08e2-267e-4cfb-e65e-1d82be8033ce"
      },
      "execution_count": 20,
      "outputs": [
        {
          "output_type": "execute_result",
          "data": {
            "text/plain": [
              "{'oak_tree': 0.41,\n",
              " 'girl': 0.54,\n",
              " 'beaver': 0.56,\n",
              " 'otter': 0.57,\n",
              " 'pine_tree': 0.58,\n",
              " 'bowl': 0.6,\n",
              " 'crocodile': 0.6,\n",
              " 'bear': 0.63,\n",
              " 'lobster': 0.64,\n",
              " 'shrew': 0.66,\n",
              " 'possum': 0.68,\n",
              " 'seal': 0.68,\n",
              " 'snake': 0.68,\n",
              " 'man': 0.69,\n",
              " 'maple_tree': 0.69,\n",
              " 'flatfish': 0.71,\n",
              " 'house': 0.71,\n",
              " 'lizard': 0.71,\n",
              " 'turtle': 0.71,\n",
              " 'mouse': 0.72,\n",
              " 'train': 0.72,\n",
              " 'baby': 0.73,\n",
              " 'dolphin': 0.73,\n",
              " 'willow_tree': 0.73,\n",
              " 'woman': 0.74,\n",
              " 'bee': 0.76,\n",
              " 'boy': 0.76,\n",
              " 'tulip': 0.76,\n",
              " 'bus': 0.77,\n",
              " 'whale': 0.77,\n",
              " 'butterfly': 0.78,\n",
              " 'dinosaur': 0.78,\n",
              " 'crab': 0.79,\n",
              " 'forest': 0.79,\n",
              " 'rose': 0.79,\n",
              " 'shark': 0.79,\n",
              " 'snail': 0.79,\n",
              " 'squirrel': 0.79,\n",
              " 'couch': 0.8,\n",
              " 'leopard': 0.8,\n",
              " 'hamster': 0.81,\n",
              " 'kangaroo': 0.81,\n",
              " 'porcupine': 0.81,\n",
              " 'sweet_pepper': 0.81,\n",
              " 'chimpanzee': 0.82,\n",
              " 'ray': 0.82,\n",
              " 'streetcar': 0.82,\n",
              " 'wolf': 0.82,\n",
              " 'poppy': 0.83,\n",
              " 'table': 0.83,\n",
              " 'bridge': 0.84,\n",
              " 'caterpillar': 0.84,\n",
              " 'cattle': 0.84,\n",
              " 'plain': 0.84,\n",
              " 'spider': 0.84,\n",
              " 'tiger': 0.84,\n",
              " 'raccoon': 0.85,\n",
              " 'lamp': 0.86,\n",
              " 'lion': 0.86,\n",
              " 'sea': 0.86,\n",
              " 'tank': 0.86,\n",
              " 'beetle': 0.87,\n",
              " 'can': 0.87,\n",
              " 'mushroom': 0.87,\n",
              " 'telephone': 0.87,\n",
              " 'camel': 0.88,\n",
              " 'clock': 0.88,\n",
              " 'palm_tree': 0.88,\n",
              " 'rabbit': 0.88,\n",
              " 'bed': 0.89,\n",
              " 'fox': 0.89,\n",
              " 'mountain': 0.89,\n",
              " 'aquarium_fish': 0.9,\n",
              " 'bottle': 0.9,\n",
              " 'cockroach': 0.9,\n",
              " 'cup': 0.9,\n",
              " 'lawn_mower': 0.9,\n",
              " 'castle': 0.91,\n",
              " 'cloud': 0.91,\n",
              " 'plate': 0.91,\n",
              " 'television': 0.91,\n",
              " 'elephant': 0.92,\n",
              " 'orange': 0.92,\n",
              " 'pickup_truck': 0.92,\n",
              " 'rocket': 0.92,\n",
              " 'skunk': 0.92,\n",
              " 'tractor': 0.92,\n",
              " 'worm': 0.92,\n",
              " 'computer_keyboard': 0.93,\n",
              " 'motorcycle': 0.93,\n",
              " 'pear': 0.93,\n",
              " 'apple': 0.94,\n",
              " 'orchid': 0.94,\n",
              " 'skyscraper': 0.94,\n",
              " 'trout': 0.94,\n",
              " 'wardrobe': 0.95,\n",
              " 'chair': 0.96,\n",
              " 'sunflower': 0.96,\n",
              " 'road': 0.97,\n",
              " 'bicycle': 0.98}"
            ]
          },
          "metadata": {},
          "execution_count": 20
        }
      ]
    },
    {
      "cell_type": "code",
      "source": [
        "conf_matrix_ = conf_matrix - np.eye(len(conf_matrix))*conf_matrix.max()"
      ],
      "metadata": {
        "id": "AZgFjWgAdo18"
      },
      "execution_count": 26,
      "outputs": []
    },
    {
      "cell_type": "code",
      "source": [
        "flat_indices = np.argsort(conf_matrix_.flatten())[-20:]\n",
        "\n",
        "row_indices, col_indices = np.unravel_index(flat_indices, conf_matrix.shape)\n",
        "\n",
        "greatest_20_indices = list(zip(row_indices, col_indices))"
      ],
      "metadata": {
        "id": "Hu17wpiYy6pI"
      },
      "execution_count": 37,
      "outputs": []
    },
    {
      "cell_type": "code",
      "source": [
        "greatest_20_indices"
      ],
      "metadata": {
        "colab": {
          "base_uri": "https://localhost:8080/"
        },
        "id": "u7yIAEE7ePl8",
        "outputId": "cfdc4a1f-0143-47c2-9341-06ddbf4b6ecf"
      },
      "execution_count": 38,
      "outputs": [
        {
          "output_type": "execute_result",
          "data": {
            "text/plain": [
              "[(98, 35),\n",
              " (36, 65),\n",
              " (11, 46),\n",
              " (50, 65),\n",
              " (30, 73),\n",
              " (13, 81),\n",
              " (88, 42),\n",
              " (35, 11),\n",
              " (35, 98),\n",
              " (95, 73),\n",
              " (55, 72),\n",
              " (59, 96),\n",
              " (46, 11),\n",
              " (2, 11),\n",
              " (35, 2),\n",
              " (52, 96),\n",
              " (47, 96),\n",
              " (10, 61),\n",
              " (78, 99),\n",
              " (52, 47)]"
            ]
          },
          "metadata": {},
          "execution_count": 38
        }
      ]
    },
    {
      "cell_type": "code",
      "source": [
        "for indices in greatest_20_indices:\n",
        "  print(\"Prediction:  \" + cifar100_labels[indices[0]] + \" : \" + cifar100_labels[indices[1]])"
      ],
      "metadata": {
        "colab": {
          "base_uri": "https://localhost:8080/"
        },
        "id": "4JiA0ynqeXnT",
        "outputId": "8641cc14-9910-4ce1-9d1b-ec8188780d17"
      },
      "execution_count": 39,
      "outputs": [
        {
          "output_type": "stream",
          "name": "stdout",
          "text": [
            "Prediction:  woman : girl\n",
            "Prediction:  hamster : rabbit\n",
            "Prediction:  boy : man\n",
            "Prediction:  mouse : rabbit\n",
            "Prediction:  dolphin : shark\n",
            "Prediction:  bus : streetcar\n",
            "Prediction:  tiger : leopard\n",
            "Prediction:  girl : boy\n",
            "Prediction:  girl : woman\n",
            "Prediction:  whale : shark\n",
            "Prediction:  otter : seal\n",
            "Prediction:  pine_tree : willow_tree\n",
            "Prediction:  man : boy\n",
            "Prediction:  baby : boy\n",
            "Prediction:  girl : baby\n",
            "Prediction:  oak_tree : willow_tree\n",
            "Prediction:  maple_tree : willow_tree\n",
            "Prediction:  bowl : plate\n",
            "Prediction:  snake : worm\n",
            "Prediction:  oak_tree : maple_tree\n"
          ]
        }
      ]
    },
    {
      "cell_type": "code",
      "source": [],
      "metadata": {
        "id": "JUWiULlf0ot_"
      },
      "execution_count": null,
      "outputs": []
    }
  ]
}