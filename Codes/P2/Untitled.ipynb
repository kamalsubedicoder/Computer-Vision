{
 "cells": [
  {
   "cell_type": "code",
   "execution_count": null,
   "id": "83bfb5b1",
   "metadata": {},
   "outputs": [],
   "source": [
    "import cv2\n",
    "import numpy as np\n",
    "\n",
    "# Load the input image\n",
    "input_image = cv2.imread('natural.jpg')\n",
    "\n",
    "# Define the number of pyramid levels\n",
    "num_levels = 4\n",
    "\n",
    "# Initialize lists to store images at each level\n",
    "pyramid_images = []\n",
    "\n",
    "# Create a copy of the input image to avoid modifying it\n",
    "current_level_image = input_image.copy()\n",
    "\n",
    "# Create a 2x2 block filter\n",
    "block_filter = np.array([[1, 1], [1, 1]], dtype=np.float32) / 4.0\n",
    "\n",
    "# Create a Burt and Adelson's binomial kernel\n",
    "binomial_kernel = np.array([1, 4, 6, 4, 1], dtype=np.float32) / 16.0\n",
    "\n",
    "# Apply the filter and downsample the image for each level\n",
    "for level in range(num_levels):\n",
    "    # Convolve the image with the filter\n",
    "    filtered_image = cv2.filter2D(current_level_image, -1, binomial_kernel)\n",
    "    \n",
    "    # Downsample the image using 2x2 block filtering\n",
    "    downsampled_image = filtered_image[::2, ::2]\n",
    "    \n",
    "    # Append the downsampled image to the pyramid list\n",
    "    pyramid_images.append(downsampled_image)\n",
    "    \n",
    "    # Update the current level image for the next iteration\n",
    "    current_level_image = downsampled_image\n",
    "\n",
    "# Compare the visual quality of pyramid images\n",
    "for i, image in enumerate(pyramid_images):\n",
    "    cv2.imshow(f'Level {i+1}', image)\n",
    "\n",
    "# Shift the input image by 1 to 4 pixels and compare the resulting decimated images\n",
    "for shift in range(1, 5):\n",
    "    shifted_image = np.roll(input_image, shift, axis=(0, 1))\n",
    "    shifted_pyramid_images = []\n",
    "\n",
    "    for level in range(num_levels):\n",
    "        filtered_image = cv2.filter2D(shifted_image, -1, binomial_kernel)\n",
    "        downsampled_image = filtered_image[::2, ::2]\n",
    "        shifted_pyramid_images.append(downsampled_image)\n",
    "\n",
    "    for i, image in enumerate(shifted_pyramid_images):\n",
    "        cv2.imshow(f'Shifted Level {i+1} (Shift={shift})', image)\n",
    "\n",
    "cv2.waitKey(0)\n",
    "cv2.destroyAllWindows()"
   ]
  }
 ],
 "metadata": {
  "kernelspec": {
   "display_name": "Python 3 (ipykernel)",
   "language": "python",
   "name": "python3"
  },
  "language_info": {
   "codemirror_mode": {
    "name": "ipython",
    "version": 3
   },
   "file_extension": ".py",
   "mimetype": "text/x-python",
   "name": "python",
   "nbconvert_exporter": "python",
   "pygments_lexer": "ipython3",
   "version": "3.9.16"
  }
 },
 "nbformat": 4,
 "nbformat_minor": 5
}
