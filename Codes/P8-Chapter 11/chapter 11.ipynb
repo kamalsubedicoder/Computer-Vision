{
 "cells": [
  {
   "cell_type": "code",
   "execution_count": 3,
   "id": "3090147f",
   "metadata": {},
   "outputs": [
    {
     "name": "stdout",
     "output_type": "stream",
     "text": [
      "Camera matrix:\n",
      " [[646.42701259   0.         359.88090371]\n",
      " [  0.         663.8486536  147.88928206]\n",
      " [  0.           0.           1.        ]]\n",
      "Distortion coefficients:\n",
      " [[-1.03437323  1.28232164  0.01723735 -0.06131223 -2.60030793]]\n",
      " Rotation Vectors:\n",
      " (array([[-0.21712764],\n",
      "       [-0.17440427],\n",
      "       [-0.02385925]]),)\n",
      "\n",
      " Translation Vectors:\n",
      " (array([[-5.80838453],\n",
      "       [ 2.49947935],\n",
      "       [14.30476472]]),)\n"
     ]
    }
   ],
   "source": [
    "import cv2\n",
    "import numpy as np\n",
    "import glob\n",
    "\n",
    "#Define the 3D world coordinates of the calibration points\n",
    "object_points = np.zeros((9*6, 3), np.float32)\n",
    "object_points[:, :2] = np.mgrid[0:9, 0:6].T.reshape(-1, 2)\n",
    "\n",
    "#Create an empty list to store the 3D world coordinates of the calibration points\n",
    "object_points_list = []\n",
    "\n",
    "#Create an empty list to store the 2D image coordinates of the calibration points\n",
    "image_points_list = []\n",
    "\n",
    "#Load the calibration images\n",
    "images = glob.glob('calibration*.jpg')\n",
    "\n",
    "#Loop over the calibration images\n",
    "for image in images:\n",
    "    # Load the image\n",
    "    img = cv2.imread(image)\n",
    "    \n",
    "    #Convert the image to grayscale\n",
    "    gray = cv2.cvtColor(img, cv2.COLOR_BGR2GRAY)\n",
    "    \n",
    "    #Find the chessboard corners\n",
    "    ret, corners = cv2.findChessboardCorners(gray, (9, 6), None)\n",
    "    \n",
    "    #If the corners are found, add the 3D world coordinates and 2D image coordinates to the lists\n",
    "    if ret == True:\n",
    "        object_points_list.append(object_points)\n",
    "        image_points_list.append(corners)\n",
    "        \n",
    "#Calibrate the camera\n",
    "ret, mtx, dist, rvecs, tvecs = cv2.calibrateCamera(object_points_list, image_points_list, gray.shape[::-1], None, None)\n",
    "\n",
    "#Print the camera matrix and distortion coefficients\n",
    "print(\"Camera matrix:\\n\", mtx)\n",
    "print(\"Distortion coefficients:\\n\", dist)\n",
    "print(\" Rotation Vectors:\\n\", rvecs) \n",
    "print(\"\\n Translation Vectors:\\n\", t_vecs) \n"
   ]
  },
  {
   "cell_type": "code",
   "execution_count": null,
   "id": "1fb0231f",
   "metadata": {},
   "outputs": [],
   "source": []
  }
 ],
 "metadata": {
  "kernelspec": {
   "display_name": "Python 3 (ipykernel)",
   "language": "python",
   "name": "python3"
  },
  "language_info": {
   "codemirror_mode": {
    "name": "ipython",
    "version": 3
   },
   "file_extension": ".py",
   "mimetype": "text/x-python",
   "name": "python",
   "nbconvert_exporter": "python",
   "pygments_lexer": "ipython3",
   "version": "3.9.16"
  }
 },
 "nbformat": 4,
 "nbformat_minor": 5
}
